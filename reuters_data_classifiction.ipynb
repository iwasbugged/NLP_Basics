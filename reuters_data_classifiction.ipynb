{
 "metadata": {
  "language_info": {
   "codemirror_mode": {
    "name": "ipython",
    "version": 3
   },
   "file_extension": ".py",
   "mimetype": "text/x-python",
   "name": "python",
   "nbconvert_exporter": "python",
   "pygments_lexer": "ipython3",
   "version": "3.8.5-final"
  },
  "orig_nbformat": 2,
  "kernelspec": {
   "name": "Python 3.8.5 64-bit ('base': conda)",
   "display_name": "Python 3.8.5 64-bit ('base': conda)",
   "metadata": {
    "interpreter": {
     "hash": "796f182db56c2cc015d4001942b31d8b20980f122a92160fefc3b8e27ed41793"
    }
   }
  }
 },
 "nbformat": 4,
 "nbformat_minor": 2,
 "cells": [
  {
   "cell_type": "code",
   "execution_count": 1,
   "metadata": {},
   "outputs": [],
   "source": [
    "# Reuters data classifications\n",
    "import numpy as np \n",
    "np.random.seed(2)  # for reproducibility\n",
    "from tensorflow.keras.datasets import reuters\n",
    "from tensorflow.keras.models import Sequential\n",
    "from tensorflow.keras.layers import Dense, Dropout , Activation\n",
    "from tensorflow.keras import utils\n",
    "from tensorflow.keras.preprocessing.text import Tokenizer\n",
    "\n",
    "from sklearn import metrics"
   ]
  },
  {
   "cell_type": "code",
   "execution_count": 8,
   "metadata": {},
   "outputs": [
    {
     "output_type": "stream",
     "name": "stdout",
     "text": [
      "loading dataset...\n",
      "8982 Train sequence\n",
      "2246 Test sequence\n"
     ]
    }
   ],
   "source": [
    "# defining parameters\n",
    "max_words = 1000\n",
    "batch_size = 32\n",
    "epoch = 5\n",
    "\n",
    "# Load dataset\n",
    "print('loading dataset...')\n",
    "(x_train , y_train) , (x_test , y_test) =  reuters.load_data(num_words= max_words , test_split= 0.2)\n",
    "\n",
    "print(len(x_train) , 'Train sequence')\n",
    "print(len(x_test), 'Test sequence')"
   ]
  },
  {
   "cell_type": "code",
   "execution_count": 5,
   "metadata": {},
   "outputs": [
    {
     "output_type": "execute_result",
     "data": {
      "text/plain": [
       "[1,\n",
       " 2,\n",
       " 2,\n",
       " 8,\n",
       " 43,\n",
       " 10,\n",
       " 447,\n",
       " 5,\n",
       " 25,\n",
       " 207,\n",
       " 270,\n",
       " 5,\n",
       " 2,\n",
       " 111,\n",
       " 16,\n",
       " 369,\n",
       " 186,\n",
       " 90,\n",
       " 67,\n",
       " 7,\n",
       " 89,\n",
       " 5,\n",
       " 19,\n",
       " 102,\n",
       " 6,\n",
       " 19,\n",
       " 124,\n",
       " 15,\n",
       " 90,\n",
       " 67,\n",
       " 84,\n",
       " 22,\n",
       " 482,\n",
       " 26,\n",
       " 7,\n",
       " 48,\n",
       " 4,\n",
       " 49,\n",
       " 8,\n",
       " 864,\n",
       " 39,\n",
       " 209,\n",
       " 154,\n",
       " 6,\n",
       " 151,\n",
       " 6,\n",
       " 83,\n",
       " 11,\n",
       " 15,\n",
       " 22,\n",
       " 155,\n",
       " 11,\n",
       " 15,\n",
       " 7,\n",
       " 48,\n",
       " 9,\n",
       " 2,\n",
       " 2,\n",
       " 504,\n",
       " 6,\n",
       " 258,\n",
       " 6,\n",
       " 272,\n",
       " 11,\n",
       " 15,\n",
       " 22,\n",
       " 134,\n",
       " 44,\n",
       " 11,\n",
       " 15,\n",
       " 16,\n",
       " 8,\n",
       " 197,\n",
       " 2,\n",
       " 90,\n",
       " 67,\n",
       " 52,\n",
       " 29,\n",
       " 209,\n",
       " 30,\n",
       " 32,\n",
       " 132,\n",
       " 6,\n",
       " 109,\n",
       " 15,\n",
       " 17,\n",
       " 12]"
      ]
     },
     "metadata": {},
     "execution_count": 5
    }
   ],
   "source": [
    "# see first data\n",
    "x_train[0]"
   ]
  },
  {
   "cell_type": "code",
   "execution_count": 9,
   "metadata": {},
   "outputs": [
    {
     "output_type": "stream",
     "name": "stdout",
     "text": [
      "vectorizing the data....\n"
     ]
    }
   ],
   "source": [
    "# Vectorize the data\n",
    "\n",
    "print('vectorizing the data....')\n",
    "tokenizer = Tokenizer(num_words= max_words)\n",
    "x_train = tokenizer.sequences_to_matrix(x_train , mode='binary')\n",
    "x_test = tokenizer.sequences_to_matrix(x_test , mode='binary')\n"
   ]
  },
  {
   "cell_type": "code",
   "execution_count": 10,
   "metadata": {},
   "outputs": [
    {
     "output_type": "stream",
     "name": "stdout",
     "text": [
      "x_train shape (8982, 1000)\nx_test shape (2246, 1000)\n"
     ]
    }
   ],
   "source": [
    "print('x_train shape' , x_train.shape)\n",
    "print('x_test shape' , x_test.shape)"
   ]
  },
  {
   "cell_type": "code",
   "execution_count": 11,
   "metadata": {},
   "outputs": [
    {
     "output_type": "stream",
     "name": "stdout",
     "text": [
      "46 Number of classes\n"
     ]
    }
   ],
   "source": [
    "# Number pf classes\n",
    "num_classes = np.max(y_train) +1\n",
    "print(num_classes , 'Number of classes')"
   ]
  },
  {
   "cell_type": "code",
   "execution_count": 12,
   "metadata": {},
   "outputs": [
    {
     "output_type": "stream",
     "name": "stdout",
     "text": [
      "Converting class vector to binary class matrix (for use with categorical_crossentropy)\n"
     ]
    }
   ],
   "source": [
    "print('Converting class vector to binary class matrix (for use with categorical_crossentropy)')\n",
    "\n",
    "y_train = utils.to_categorical(y_train , num_classes= num_classes)\n",
    "y_test = utils.to_categorical(y_test , num_classes= num_classes)"
   ]
  },
  {
   "cell_type": "code",
   "execution_count": 13,
   "metadata": {},
   "outputs": [
    {
     "output_type": "stream",
     "name": "stdout",
     "text": [
      "Y train shape : (8982, 46)\nY test shape : (2246, 46)\n"
     ]
    }
   ],
   "source": [
    "print('Y train shape :', y_train.shape)\n",
    "print('Y test shape :' , y_test.shape)"
   ]
  },
  {
   "source": [
    "# Build model"
   ],
   "cell_type": "markdown",
   "metadata": {}
  },
  {
   "cell_type": "code",
   "execution_count": 14,
   "metadata": {},
   "outputs": [
    {
     "output_type": "stream",
     "name": "stdout",
     "text": [
      "Building model...\n"
     ]
    }
   ],
   "source": [
    "print('Building model...')\n",
    "\n",
    "model = Sequential()\n",
    "model.add(Dense(512 , input_shape=(max_words,)))\n",
    "model.add(Activation('relu'))\n",
    "model.add(Dropout(0.5))\n",
    "model.add(Dense(num_classes))\n",
    "model.add(Activation('softmax'))"
   ]
  },
  {
   "cell_type": "code",
   "execution_count": 15,
   "metadata": {},
   "outputs": [
    {
     "output_type": "stream",
     "name": "stdout",
     "text": [
      "Model: \"sequential\"\n_________________________________________________________________\nLayer (type)                 Output Shape              Param #   \n=================================================================\ndense (Dense)                (None, 512)               512512    \n_________________________________________________________________\nactivation (Activation)      (None, 512)               0         \n_________________________________________________________________\ndropout (Dropout)            (None, 512)               0         \n_________________________________________________________________\ndense_1 (Dense)              (None, 46)                23598     \n_________________________________________________________________\nactivation_1 (Activation)    (None, 46)                0         \n=================================================================\nTotal params: 536,110\nTrainable params: 536,110\nNon-trainable params: 0\n_________________________________________________________________\n"
     ]
    }
   ],
   "source": [
    "model.summary()"
   ]
  },
  {
   "cell_type": "code",
   "execution_count": 16,
   "metadata": {},
   "outputs": [
    {
     "output_type": "stream",
     "name": "stdout",
     "text": [
      "Epoch 1/5\n",
      "253/253 [==============================] - 1s 5ms/step - loss: 1.4093 - accuracy: 0.6866 - val_loss: 1.1023 - val_accuracy: 0.7642\n",
      "Epoch 2/5\n",
      "253/253 [==============================] - 1s 5ms/step - loss: 0.7697 - accuracy: 0.8188 - val_loss: 0.9152 - val_accuracy: 0.7798\n",
      "Epoch 3/5\n",
      "253/253 [==============================] - 1s 4ms/step - loss: 0.5407 - accuracy: 0.8699 - val_loss: 0.8559 - val_accuracy: 0.8065\n",
      "Epoch 4/5\n",
      "253/253 [==============================] - 1s 4ms/step - loss: 0.4062 - accuracy: 0.8998 - val_loss: 0.8560 - val_accuracy: 0.8198\n",
      "Epoch 5/5\n",
      "253/253 [==============================] - 1s 4ms/step - loss: 0.3226 - accuracy: 0.9188 - val_loss: 0.8762 - val_accuracy: 0.8076\n"
     ]
    }
   ],
   "source": [
    "# Compiling the model\n",
    "\n",
    "model.compile(\n",
    "    loss = 'categorical_crossentropy',\n",
    "    optimizer= 'adam',\n",
    "    metrics=['accuracy']\n",
    ")\n",
    "\n",
    "history  = model.fit( x_train , y_train , epochs=epoch , batch_size= batch_size , validation_split=0.1)"
   ]
  },
  {
   "cell_type": "code",
   "execution_count": 18,
   "metadata": {},
   "outputs": [
    {
     "output_type": "stream",
     "name": "stdout",
     "text": [
      "71/71 - 0s - loss: 0.8634 - accuracy: 0.7956\n",
      " Test score :  [0.8634244799613953, 0.7956367135047913]\n"
     ]
    }
   ],
   "source": [
    "# Evaluating the model\n",
    "score = model.evaluate(x_test , y_test , verbose= 2 , batch_size = batch_size)\n",
    "\n",
    "print(' Test score : ' ,score)"
   ]
  },
  {
   "cell_type": "code",
   "execution_count": 33,
   "metadata": {},
   "outputs": [
    {
     "output_type": "execute_result",
     "data": {
      "text/plain": [
       "0.7956366874443455"
      ]
     },
     "metadata": {},
     "execution_count": 33
    }
   ],
   "source": [
    "y_pred = model.predict_classes(x_test)\n",
    "metrics.accuracy_score(np.argmax(y_test , axis=-1) , y_pred)"
   ]
  },
  {
   "cell_type": "code",
   "execution_count": 34,
   "metadata": {},
   "outputs": [],
   "source": [
    "cm = metrics.confusion_matrix(np.argmax(y_test , axis=-1) , y_pred)"
   ]
  },
  {
   "cell_type": "code",
   "execution_count": 35,
   "metadata": {},
   "outputs": [
    {
     "output_type": "execute_result",
     "data": {
      "text/plain": [
       "array([8, 0, 0, 0, 1, 0, 0, 0, 0, 0, 2, 0, 0, 0, 0, 0, 0, 0, 0, 0, 1, 0,\n",
       "       0, 0, 0, 0, 0, 0, 0, 0, 0, 0, 0, 0, 0, 0, 0, 0, 0, 0, 0, 0, 0, 0,\n",
       "       0, 0], dtype=int64)"
      ]
     },
     "metadata": {},
     "execution_count": 35
    }
   ],
   "source": [
    "cm[0 , :]"
   ]
  },
  {
   "cell_type": "code",
   "execution_count": 36,
   "metadata": {},
   "outputs": [],
   "source": [
    "cr = metrics.classification_report(np.argmax(y_test , axis=-1) , y_pred)"
   ]
  },
  {
   "cell_type": "code",
   "execution_count": null,
   "metadata": {},
   "outputs": [],
   "source": [
    "print(cr)"
   ]
  }
 ]
}